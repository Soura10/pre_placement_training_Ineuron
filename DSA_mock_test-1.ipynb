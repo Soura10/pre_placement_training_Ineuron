{
 "cells": [
  {
   "cell_type": "markdown",
   "id": "6ff0e52a",
   "metadata": {},
   "source": [
    "Given an integer array nums, move all 0's to the end of it while maintaining the relative order of the non-zero elements.\n",
    "\n",
    "Note that you must do this in-place without making a copy of the array.\n",
    "\n",
    "Example 1:\n",
    "Input: nums = [0,1,0,3,12]\n",
    "Output: [1,3,12,0,0]\n",
    "\n",
    "Example 2:\n",
    "Input: nums = [0]\n",
    "Output: [0]"
   ]
  },
  {
   "cell_type": "code",
   "execution_count": 18,
   "id": "20124e47",
   "metadata": {},
   "outputs": [],
   "source": [
    "def move_zeros(nums):\n",
    "    new_zeros=0\n",
    "    for num in nums:\n",
    "        if num!=0:\n",
    "            nums[new_zeros]=num #move the non zero elements on the front\n",
    "            new_zeros=new_zeros+1\n",
    "             #fill the remaining with zeros\n",
    "    while new_zeros<len(nums):\n",
    "            nums[new_zeros]=0\n",
    "            new_zeros=new_zeros+1\n",
    "    return nums            "
   ]
  },
  {
   "cell_type": "code",
   "execution_count": 19,
   "id": "38102821",
   "metadata": {},
   "outputs": [],
   "source": [
    "nums = [0,1,0,3,12] "
   ]
  },
  {
   "cell_type": "code",
   "execution_count": 20,
   "id": "ee49c6d1",
   "metadata": {},
   "outputs": [],
   "source": [
    "r=move_zeros(nums)"
   ]
  },
  {
   "cell_type": "code",
   "execution_count": 21,
   "id": "18aeacf6",
   "metadata": {},
   "outputs": [
    {
     "name": "stdout",
     "output_type": "stream",
     "text": [
      "[1, 3, 12, 0, 0]\n"
     ]
    }
   ],
   "source": [
    "print(r)"
   ]
  },
  {
   "cell_type": "markdown",
   "id": "05adcc57",
   "metadata": {},
   "source": [
    "First Unique Character in a String\n",
    "\n",
    "Given a string s, find the first non-repeating character in it and return its index. If it does not exist, return -1.\n",
    "\n",
    "Example 1:\n",
    "Input: s = \"leetcode\"\n",
    "Output: 0\n",
    "\n",
    "Example 2:\n",
    "Input: s = \"loveleetcode\"\n",
    "Output: 2\n",
    "\n",
    "Example 3:\n",
    "Input: s = \"aabb\"\n",
    "Output: -1"
   ]
  },
  {
   "cell_type": "code",
   "execution_count": null,
   "id": "8449ed89",
   "metadata": {},
   "outputs": [],
   "source": []
  },
  {
   "cell_type": "code",
   "execution_count": 30,
   "id": "973f87fe",
   "metadata": {},
   "outputs": [],
   "source": [
    "def first_nonrepeating_character(s):\n",
    "    d={}\n",
    "  \n",
    "    for ch in s:\n",
    "        d[ch]=d.get(ch,0)+1 #retrieves the value associated with the key\n",
    "    for i, ch in enumerate(s):\n",
    "        if d[ch]==1:\n",
    "            return i\n",
    "    return -1"
   ]
  },
  {
   "cell_type": "code",
   "execution_count": 32,
   "id": "4016f043",
   "metadata": {},
   "outputs": [
    {
     "name": "stdout",
     "output_type": "stream",
     "text": [
      "0\n"
     ]
    }
   ],
   "source": [
    "s=\"leetcode\"\n",
    "print(first_nonrepeating_character(s))"
   ]
  },
  {
   "cell_type": "code",
   "execution_count": 33,
   "id": "49e2dcfd",
   "metadata": {},
   "outputs": [
    {
     "name": "stdout",
     "output_type": "stream",
     "text": [
      "-1\n"
     ]
    }
   ],
   "source": [
    "s=\"aabb\"\n",
    "print(first_nonrepeating_character(s))"
   ]
  },
  {
   "cell_type": "code",
   "execution_count": null,
   "id": "e68bcd00",
   "metadata": {},
   "outputs": [],
   "source": []
  }
 ],
 "metadata": {
  "kernelspec": {
   "display_name": "Python 3 (ipykernel)",
   "language": "python",
   "name": "python3"
  },
  "language_info": {
   "codemirror_mode": {
    "name": "ipython",
    "version": 3
   },
   "file_extension": ".py",
   "mimetype": "text/x-python",
   "name": "python",
   "nbconvert_exporter": "python",
   "pygments_lexer": "ipython3",
   "version": "3.9.13"
  }
 },
 "nbformat": 4,
 "nbformat_minor": 5
}
