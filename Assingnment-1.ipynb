{
 "cells": [
  {
   "cell_type": "markdown",
   "id": "78b543f4",
   "metadata": {},
   "source": [
    " Question7.Given an integer array nums, move all 0's to the end of it while maintaining the relative order of the nonzero elements.\n",
    "\n",
    "Note that you must do this in-place without making a copy of the array.\n",
    "\n",
    "Example 1:\n",
    "Input: nums = [0,1,0,3,12]\n",
    "Output: [1,3,12,0,0]"
   ]
  },
  {
   "cell_type": "code",
   "execution_count": 21,
   "id": "a6d66e3e",
   "metadata": {},
   "outputs": [
    {
     "name": "stdout",
     "output_type": "stream",
     "text": [
      "667609\n"
     ]
    }
   ],
   "source": [
    "arr=input()"
   ]
  },
  {
   "cell_type": "code",
   "execution_count": 22,
   "id": "0ff1718d",
   "metadata": {},
   "outputs": [],
   "source": [
    "#stroring all non zeros\n",
    "non_zeroes=[i for  i in arr if i!=0]"
   ]
  },
  {
   "cell_type": "code",
   "execution_count": 23,
   "id": "384ac8a0",
   "metadata": {},
   "outputs": [],
   "source": [
    "#storing all zeros\n",
    "zeroes = [j for j in arr if j == 0]"
   ]
  },
  {
   "cell_type": "code",
   "execution_count": 24,
   "id": "948a51dd",
   "metadata": {},
   "outputs": [],
   "source": [
    "arr=non_zeroes+zeroes"
   ]
  },
  {
   "cell_type": "code",
   "execution_count": 25,
   "id": "cbcd741b",
   "metadata": {},
   "outputs": [
    {
     "name": "stdout",
     "output_type": "stream",
     "text": [
      "['6', '6', '7', '6', '0', '9']\n"
     ]
    }
   ],
   "source": [
    "print(arr)"
   ]
  },
  {
   "cell_type": "code",
   "execution_count": null,
   "id": "2e3e6dff",
   "metadata": {},
   "outputs": [],
   "source": []
  },
  {
   "cell_type": "markdown",
   "id": "1e388b53",
   "metadata": {},
   "source": [
    "Question 6. \n",
    "Given an integer array nums, return true if any value appears at least twice in the array, and return false if every element is distinct.\n",
    "\n",
    "**Example 1:**\n",
    "Input: nums = [1,2,3,1]\n",
    "\n",
    "Output: true\n"
   ]
  },
  {
   "cell_type": "code",
   "execution_count": 26,
   "id": "c4ecd5cc",
   "metadata": {},
   "outputs": [],
   "source": [
    "def freq(a):\n",
    "    hashmap = dict()\n",
    "    for i in a:\n",
    "        if i in hashmap.keys():\n",
    "            hashmap[i] = hashmap[i] + 1\n",
    "        else:\n",
    "            hashmap[i] = 1\n",
    "\n",
    "    if len(set(hashmap.values())) > 1:\n",
    "        return(True)\n",
    "    else:\n",
    "        return(False)"
   ]
  },
  {
   "cell_type": "code",
   "execution_count": 27,
   "id": "811d925a",
   "metadata": {},
   "outputs": [
    {
     "name": "stdout",
     "output_type": "stream",
     "text": [
      "True\n"
     ]
    }
   ],
   "source": [
    "a =[1,2,3,1]\n",
    "print(freq(a))"
   ]
  },
  {
   "cell_type": "markdown",
   "id": "1264132b",
   "metadata": {},
   "source": [
    "Question8. You have a set of integers s, which originally contains all the numbers from 1 to n. Unfortunately, due to some error, one of the numbers in s got duplicated to another number in the set, which results in repetition of one number and loss of another number.\n",
    "\n",
    "You are given an integer array nums representing the data status of this set after the error.\n",
    "\n",
    "Find the number that occurs twice and the number that is missing and return them in the form of an array.\n",
    "\n",
    "**Example 1:**\n",
    "Input: nums = [1,2,2,4]\n",
    "Output: [2,3]"
   ]
  },
  {
   "cell_type": "markdown",
   "id": "528e7661",
   "metadata": {},
   "source": [
    "Method1:"
   ]
  },
  {
   "cell_type": "code",
   "execution_count": 28,
   "id": "d755196c",
   "metadata": {},
   "outputs": [],
   "source": [
    "def miss(a):\n",
    "    l = []\n",
    "    a.sort()\n",
    "    for i in range(0,len(a)):\n",
    "        if a[i] == a[i+1]:\n",
    "            l.append(a[i])\n",
    "            l.append(a[i]+1)\n",
    "            break\n",
    "    return l"
   ]
  },
  {
   "cell_type": "code",
   "execution_count": 29,
   "id": "438cd3fb",
   "metadata": {},
   "outputs": [
    {
     "data": {
      "text/plain": [
       "[2, 3]"
      ]
     },
     "execution_count": 29,
     "metadata": {},
     "output_type": "execute_result"
    }
   ],
   "source": [
    "a =[1,2,2,4] \n",
    "miss(a)"
   ]
  },
  {
   "cell_type": "code",
   "execution_count": null,
   "id": "cc2ccbed",
   "metadata": {},
   "outputs": [],
   "source": []
  },
  {
   "cell_type": "markdown",
   "id": "a16c4784",
   "metadata": {},
   "source": [
    "Question 5. You are given two integer arrays nums1 and nums2, sorted in non-decreasing order, and two integers m and n, representing the number of elements in nums1 and nums2 respectively.\n",
    "\n",
    "Merge nums1 and nums2 into a single array sorted in non-decreasing order.\n",
    "\n",
    "The final sorted array should not be returned by the function, but instead be stored inside the array nums1. To accommodate this, nums1 has a length of m + n, where the first m elements denote the elements that should be merged, and the last n elements are set to 0 and should be ignored. nums2 has a length of n.\n"
   ]
  },
  {
   "cell_type": "code",
   "execution_count": 45,
   "id": "61ed1bf8",
   "metadata": {},
   "outputs": [],
   "source": [
    "def merge(nums1, m, nums2, n):\n",
    "    p1 = m - 1\n",
    "    p2 = n - 1\n",
    "    p = m + n - 1\n",
    "\n",
    "    while p1 >= 0 and p2 >= 0:\n",
    "        if nums1[p1] >= nums2[p2]:\n",
    "            nums1[p] = nums1[p1]\n",
    "            p1 -= 1\n",
    "        else:\n",
    "            nums1[p] = nums2[p2]\n",
    "            p2 -= 1\n",
    "        p -= 1\n",
    "\n",
    "    # Copy remaining elements from nums2 to nums1\n",
    "    nums1[:p2 + 1] = nums2[:p2 + 1]"
   ]
  },
  {
   "cell_type": "code",
   "execution_count": 46,
   "id": "2a439fa5",
   "metadata": {},
   "outputs": [],
   "source": [
    " nums1 = [1,2,3,0,0,0]"
   ]
  },
  {
   "cell_type": "code",
   "execution_count": 47,
   "id": "2e61a957",
   "metadata": {},
   "outputs": [],
   "source": [
    "nums2 = [2,5,6]"
   ]
  },
  {
   "cell_type": "code",
   "execution_count": 48,
   "id": "a26c60d8",
   "metadata": {},
   "outputs": [],
   "source": [
    "m=3\n",
    "n=3"
   ]
  },
  {
   "cell_type": "code",
   "execution_count": 49,
   "id": "74c49f74",
   "metadata": {},
   "outputs": [],
   "source": [
    "merge(nums1, m, nums2, n)"
   ]
  },
  {
   "cell_type": "code",
   "execution_count": 51,
   "id": "37309364",
   "metadata": {},
   "outputs": [
    {
     "name": "stdout",
     "output_type": "stream",
     "text": [
      "[1, 2, 2, 3, 5, 6]\n"
     ]
    }
   ],
   "source": [
    "print(nums1)"
   ]
  },
  {
   "cell_type": "code",
   "execution_count": null,
   "id": "beaf39dc",
   "metadata": {},
   "outputs": [],
   "source": []
  },
  {
   "cell_type": "markdown",
   "id": "a8352659",
   "metadata": {},
   "source": [
    "Question 4. You are given a large integer represented as an integer array digits, where each digits[i] is the ith digit of the integer. The digits are ordered from most significant to least significant in left-to-right order. The large integer does not contain any leading 0's.\n",
    "\n",
    "Increment the large integer by one and return the resulting array of digits.\n"
   ]
  },
  {
   "cell_type": "code",
   "execution_count": 53,
   "id": "d2aac4c8",
   "metadata": {},
   "outputs": [
    {
     "name": "stdout",
     "output_type": "stream",
     "text": [
      "[1, 2, 4]\n"
     ]
    }
   ],
   "source": [
    "def plusOne(digits):\n",
    "    # Start from the least significant digit\n",
    "    i = len(digits) - 1\n",
    "    \n",
    "    # Add one to the last digit\n",
    "    digits[i] += 1\n",
    "    \n",
    "    # Check if there is a carry\n",
    "    carry = digits[i] // 10\n",
    "    \n",
    "    # Update the current digit\n",
    "    digits[i] %= 10\n",
    "    \n",
    "    # Move to the previous digit\n",
    "    i -= 1\n",
    "    \n",
    "    # Iterate through the remaining digits\n",
    "    while carry > 0 and i >= 0:\n",
    "        digits[i] += carry\n",
    "        carry = digits[i] // 10\n",
    "        digits[i] %= 10\n",
    "        i -= 1\n",
    "    \n",
    "    # If there is still a carry, insert it as a new digit\n",
    "    if carry > 0:\n",
    "        digits.insert(0, carry)\n",
    "    \n",
    "    # Return the resulting array of digits\n",
    "    return digits\n",
    "\n",
    "digits = [1, 2, 3]\n",
    "\n",
    "result = plusOne(digits)\n",
    "print(result)"
   ]
  },
  {
   "cell_type": "code",
   "execution_count": null,
   "id": "1ec37c54",
   "metadata": {},
   "outputs": [],
   "source": []
  },
  {
   "cell_type": "markdown",
   "id": "3418fbe3",
   "metadata": {},
   "source": [
    "Question 3.\n",
    "Given a sorted array of distinct integers and a target value, return the index if the target is found. If not, return the index where it would be if it were inserted in order.\n",
    "\n",
    "You must write an algorithm with O(log n) runtime complexity.\n"
   ]
  },
  {
   "cell_type": "code",
   "execution_count": 55,
   "id": "5b785b10",
   "metadata": {},
   "outputs": [
    {
     "data": {
      "text/plain": [
       "1"
      ]
     },
     "execution_count": 55,
     "metadata": {},
     "output_type": "execute_result"
    }
   ],
   "source": [
    "def find_idx(nums,target):\n",
    "  for i in range(len(nums)):\n",
    "    if nums[-1] < target:\n",
    "      return len(nums)\n",
    "    elif nums[i] == target:\n",
    "      return i\n",
    "    elif nums[i] > target:\n",
    "      return i\n",
    "\n",
    "find_idx([1,3,5,6],2)"
   ]
  },
  {
   "cell_type": "code",
   "execution_count": 56,
   "id": "9890b2de",
   "metadata": {},
   "outputs": [
    {
     "data": {
      "text/plain": [
       "2"
      ]
     },
     "execution_count": 56,
     "metadata": {},
     "output_type": "execute_result"
    }
   ],
   "source": [
    "\n",
    "find_idx([1,3,5,6],5)"
   ]
  },
  {
   "cell_type": "code",
   "execution_count": null,
   "id": "a708f82a",
   "metadata": {},
   "outputs": [],
   "source": []
  },
  {
   "cell_type": "markdown",
   "id": "ed7e69bf",
   "metadata": {},
   "source": [
    "Question 2: Given an integer array nums and an integer val, remove all occurrences of val in nums in-place. The order of the elements may be changed. Then return the number of elements in nums which are not equal to val.\n",
    "\n",
    "Consider the number of elements in nums which are not equal to val be k, to get accepted, you need to do the following things:\n",
    "\n",
    "- Change the array nums such that the first k elements of nums contain the elements which are not equal to val. The remaining elements of nums are not important as well as the size of nums.\n",
    "- Return k."
   ]
  },
  {
   "cell_type": "code",
   "execution_count": 59,
   "id": "41852369",
   "metadata": {},
   "outputs": [
    {
     "data": {
      "text/plain": [
       "7"
      ]
     },
     "execution_count": 59,
     "metadata": {},
     "output_type": "execute_result"
    }
   ],
   "source": [
    "def replace_and_count(nums, val):\n",
    "  i=0\n",
    "  for j in range(len(nums)):\n",
    "      if nums[j]!=val:\n",
    "          nums[i]=nums[j]\n",
    "          i+=1\n",
    "  return i\n",
    "\n",
    "\n",
    "replace_and_count([3,2,2,3], 3)\n",
    "replace_and_count([9,8,7,6,3,8,2,6,5], 8)"
   ]
  },
  {
   "cell_type": "code",
   "execution_count": null,
   "id": "3c7f9d55",
   "metadata": {},
   "outputs": [],
   "source": []
  },
  {
   "cell_type": "markdown",
   "id": "3fa2efd1",
   "metadata": {},
   "source": [
    "Question 1. Given an array of integers nums and an integer target, return indices of the two numbers such that they add up to target.\n",
    "\n",
    "You may assume that each input would have exactly one solution, and you may not use the same element twice.\n",
    "\n",
    "You can return the answer in any order."
   ]
  },
  {
   "cell_type": "code",
   "execution_count": 61,
   "id": "47a33aaa",
   "metadata": {},
   "outputs": [
    {
     "name": "stdout",
     "output_type": "stream",
     "text": [
      "Input:   [3, 3] 6\n",
      "Output:  [0, 1]\n",
      "\n",
      "\n",
      "Input:   [3, 2, 4] 6\n",
      "Output:  [1, 2]\n",
      "\n",
      "\n",
      "Input:   [2, 7, 11, 15] 9\n",
      "Output:  [0, 1]\n",
      "\n",
      "\n",
      "Input:   [2, 7, 11, 15] 18\n",
      "Output:  [1, 2]\n",
      "\n",
      "\n",
      "Input:   [2, 7, 11, 15] 17\n",
      "Output:  [0, 3]\n",
      "\n",
      "\n"
     ]
    }
   ],
   "source": [
    "def get_index(nums,target):\n",
    "  dic = {}\n",
    "  for i in range(len(nums)-1):\n",
    "    dic[nums[i]] = i\n",
    "    if target - nums[i+1] in dic:\n",
    "      print('Input:  ',nums,target)\n",
    "      print('Output: ',[dic.get(target-nums[i+1]), i+1])\n",
    "      print('\\n')\n",
    "    \n",
    "    \n",
    "\n",
    "get_index([3,3],6)\n",
    "\n",
    "get_index([3,2,4],6)\n",
    "\n",
    "get_index([2,7,11,15],9)\n",
    "\n",
    "get_index([2,7,11,15], 18)\n",
    "\n",
    "get_index([2,7,11,15],17)"
   ]
  },
  {
   "cell_type": "code",
   "execution_count": null,
   "id": "4167e049",
   "metadata": {},
   "outputs": [],
   "source": []
  },
  {
   "cell_type": "code",
   "execution_count": null,
   "id": "528c5659",
   "metadata": {},
   "outputs": [],
   "source": []
  }
 ],
 "metadata": {
  "kernelspec": {
   "display_name": "Python 3 (ipykernel)",
   "language": "python",
   "name": "python3"
  },
  "language_info": {
   "codemirror_mode": {
    "name": "ipython",
    "version": 3
   },
   "file_extension": ".py",
   "mimetype": "text/x-python",
   "name": "python",
   "nbconvert_exporter": "python",
   "pygments_lexer": "ipython3",
   "version": "3.9.13"
  }
 },
 "nbformat": 4,
 "nbformat_minor": 5
}
