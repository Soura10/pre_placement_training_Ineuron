{
  "nbformat": 4,
  "nbformat_minor": 0,
  "metadata": {
    "colab": {
      "provenance": []
    },
    "kernelspec": {
      "name": "python3",
      "display_name": "Python 3"
    },
    "language_info": {
      "name": "python"
    }
  },
  "cells": [
    {
      "cell_type": "markdown",
      "source": [
        "## <aside>\n",
        "💡 **Question 1**\n",
        "\n",
        "Given two strings s and t, *determine if they are isomorphic*.\n",
        "\n",
        "Two strings s and t are isomorphic if the characters in s can be replaced to get t.\n",
        "\n",
        "All occurrences of a character must be replaced with another character while preserving the order of characters. No two characters may map to the same character, but a character may map to itself.\n",
        "\n",
        "**Example 1:**\n",
        "\n",
        "**Input:** s = \"egg\", t = \"add\"\n",
        "\n",
        "**Output:** true\n",
        "\n",
        "</aside>"
      ],
      "metadata": {
        "id": "q4HoF2Skeyee"
      }
    },
    {
      "cell_type": "code",
      "source": [
        "def isIsomorphic(s: str, t: str) -> bool:\n",
        "    if len(s) != len(t):\n",
        "        return False\n",
        "\n",
        "    char_map = {}\n",
        "    mapped_chars = set()\n",
        "\n",
        "    for i in range(len(s)):\n",
        "        if s[i] in char_map:\n",
        "            if char_map[s[i]] != t[i]:\n",
        "                return False\n",
        "        else:\n",
        "            if t[i] in mapped_chars:\n",
        "                return False\n",
        "            char_map[s[i]] = t[i]\n",
        "            mapped_chars.add(t[i])\n",
        "\n",
        "    return True\n"
      ],
      "metadata": {
        "id": "OrLPyPUlexZ_"
      },
      "execution_count": null,
      "outputs": []
    },
    {
      "cell_type": "code",
      "source": [
        "s = \"egg\"\n",
        "t = \"add\"\n",
        "result = isIsomorphic(s, t)\n",
        "print(result)  # Output: True"
      ],
      "metadata": {
        "colab": {
          "base_uri": "https://localhost:8080/"
        },
        "id": "u-SxblkefAMu",
        "outputId": "63ba72d4-dab6-4e6f-e565-548c7ec0999a"
      },
      "execution_count": null,
      "outputs": [
        {
          "output_type": "stream",
          "name": "stdout",
          "text": [
            "True\n"
          ]
        }
      ]
    },
    {
      "cell_type": "markdown",
      "source": [
        "## <aside>\n",
        "💡 **Question 2**\n",
        "\n",
        "Given a string num which represents an integer, return true *if* num *is a **strobogrammatic number***.\n",
        "\n",
        "A **strobogrammatic number** is a number that looks the same when rotated 180 degrees (looked at upside down).\n",
        "\n",
        "**Example 1:**\n",
        "\n",
        "**Input:** num = \"69\"\n",
        "\n",
        "**Output:**\n",
        "\n",
        "true\n",
        "\n",
        "</aside>"
      ],
      "metadata": {
        "id": "QkSaKNeyfRf_"
      }
    },
    {
      "cell_type": "code",
      "source": [
        "def isStrobogrammatic(num: str) -> bool:\n",
        "    strobogrammatic_map = {\n",
        "        \"0\": \"0\",\n",
        "        \"1\": \"1\",\n",
        "        \"6\": \"9\",\n",
        "        \"8\": \"8\",\n",
        "        \"9\": \"6\"\n",
        "    }\n",
        "\n",
        "    left = 0\n",
        "    right = len(num) - 1\n",
        "\n",
        "    while left <= right:\n",
        "        if num[left] not in strobogrammatic_map or num[right] not in strobogrammatic_map:\n",
        "            return False\n",
        "        if num[left] != strobogrammatic_map[num[right]]:\n",
        "            return False\n",
        "        left += 1\n",
        "        right -= 1\n",
        "\n",
        "    return True\n"
      ],
      "metadata": {
        "id": "3XMrnOk6fTIv"
      },
      "execution_count": null,
      "outputs": []
    },
    {
      "cell_type": "code",
      "source": [
        "num = \"69\"\n",
        "result = isStrobogrammatic(num)\n",
        "print(result)  # Output: True\n"
      ],
      "metadata": {
        "colab": {
          "base_uri": "https://localhost:8080/"
        },
        "id": "WqsUfwjDf0ng",
        "outputId": "4374561e-1cfb-449b-e4f7-93eb658e710d"
      },
      "execution_count": null,
      "outputs": [
        {
          "output_type": "stream",
          "name": "stdout",
          "text": [
            "True\n"
          ]
        }
      ]
    },
    {
      "cell_type": "markdown",
      "source": [
        "## <aside>\n",
        "💡 **Question 3**\n",
        "\n",
        "Given two non-negative integers, num1 and num2 represented as string, return *the sum of* num1 *and* num2 *as a string*.\n",
        "\n",
        "You must solve the problem without using any built-in library for handling large integers (such as BigInteger). You must also not convert the inputs to integers directly.\n",
        "\n",
        "**Example 1:**\n",
        "\n",
        "**Input:** num1 = \"11\", num2 = \"123\"\n",
        "\n",
        "**Output:**\n",
        "\n",
        "\"134\"\n",
        "\n",
        "</aside>"
      ],
      "metadata": {
        "id": "0SvImw8yf9q5"
      }
    },
    {
      "cell_type": "code",
      "source": [
        "def addStrings(num1: str, num2: str) -> str:\n",
        "    result = []\n",
        "    carry = 0\n",
        "    i, j = len(num1) - 1, len(num2) - 1\n",
        "\n",
        "    while i >= 0 or j >= 0 or carry > 0:\n",
        "        digit1 = int(num1[i]) if i >= 0 else 0\n",
        "        digit2 = int(num2[j]) if j >= 0 else 0\n",
        "        current_sum = digit1 + digit2 + carry\n",
        "        carry = current_sum // 10\n",
        "        result.append(str(current_sum % 10))\n",
        "        i -= 1\n",
        "        j -= 1\n",
        "\n",
        "    return \"\".join(result[::-1])\n"
      ],
      "metadata": {
        "id": "ABWTjg4HgCs2"
      },
      "execution_count": null,
      "outputs": []
    },
    {
      "cell_type": "code",
      "source": [
        "num1 = \"11\"\n",
        "num2 = \"123\"\n",
        "result = addStrings(num1, num2)\n",
        "print(result)  # Output: \"134\"\n"
      ],
      "metadata": {
        "colab": {
          "base_uri": "https://localhost:8080/"
        },
        "id": "9aDdDauogunX",
        "outputId": "8725ba1a-501c-4f10-956b-a6380e9493ab"
      },
      "execution_count": null,
      "outputs": [
        {
          "output_type": "stream",
          "name": "stdout",
          "text": [
            "134\n"
          ]
        }
      ]
    },
    {
      "cell_type": "markdown",
      "source": [
        "## <aside>\n",
        "💡 **Question 4**\n",
        "\n",
        "Given a string s, reverse the order of characters in each word within a sentence while still preserving whitespace and initial word order.\n",
        "\n",
        "**Example 1:**\n",
        "\n",
        "**Input:** s = \"Let's take LeetCode contest\"\n",
        "\n",
        "**Output:** \"s'teL ekat edoCteeL tsetnoc\"\n",
        "\n",
        "</aside>"
      ],
      "metadata": {
        "id": "XTY-gHgOg0Rs"
      }
    },
    {
      "cell_type": "code",
      "source": [
        "def reverseWords(s: str) -> str:\n",
        "    words = s.split()\n",
        "    reversed_words = [word[::-1] for word in words]\n",
        "    return \" \".join(reversed_words)\n"
      ],
      "metadata": {
        "id": "dkFksEymg3uH"
      },
      "execution_count": null,
      "outputs": []
    },
    {
      "cell_type": "code",
      "source": [
        "s = \"Let's take LeetCode contest\"\n",
        "result = reverseWords(s)\n",
        "print(result)  # Output: \"s'teL ekat edoCteeL tsetnoc\"\n"
      ],
      "metadata": {
        "colab": {
          "base_uri": "https://localhost:8080/"
        },
        "id": "wYyCFOQYhJkF",
        "outputId": "39e4e785-89ca-421b-ecda-fb2fdeeb465f"
      },
      "execution_count": null,
      "outputs": [
        {
          "output_type": "stream",
          "name": "stdout",
          "text": [
            "s'teL ekat edoCteeL tsetnoc\n"
          ]
        }
      ]
    },
    {
      "cell_type": "markdown",
      "source": [
        "## <aside>\n",
        "💡 **Question 5**\n",
        "\n",
        "Given a string s and an integer k, reverse the first k characters for every 2k characters counting from the start of the string.\n",
        "\n",
        "If there are fewer than k characters left, reverse all of them. If there are less than 2k but greater than or equal to k characters, then reverse the first k characters and leave the other as original.\n",
        "\n",
        "**Example 1:**\n",
        "\n",
        "**Input:** s = \"abcdefg\", k = 2\n",
        "\n",
        "**Output:**\n",
        "\n",
        "\"bacdfeg\"\n",
        "\n",
        "</aside>"
      ],
      "metadata": {
        "id": "KRG5OYiNhOPg"
      }
    },
    {
      "cell_type": "code",
      "source": [
        "def reverseStr(s: str, k: int) -> str:\n",
        "    result = \"\"\n",
        "    for i in range(0, len(s), 2*k):\n",
        "        result += s[i:i+k][::-1] + s[i+k:i+2*k]\n",
        "    return result\n"
      ],
      "metadata": {
        "id": "QA-34uP3hRj4"
      },
      "execution_count": null,
      "outputs": []
    },
    {
      "cell_type": "code",
      "source": [
        "s = \"abcdefg\"\n",
        "k = 2\n",
        "result = reverseStr(s, k)\n",
        "print(result)  # Output: \"bacdfeg\"\n"
      ],
      "metadata": {
        "colab": {
          "base_uri": "https://localhost:8080/"
        },
        "id": "Z0h_m-VEhRzM",
        "outputId": "c2b284d1-e1d2-4511-906d-8fd929f27ed5"
      },
      "execution_count": null,
      "outputs": [
        {
          "output_type": "stream",
          "name": "stdout",
          "text": [
            "bacdfeg\n"
          ]
        }
      ]
    },
    {
      "cell_type": "markdown",
      "source": [
        "## <aside>\n",
        "💡 **Question 6**\n",
        "\n",
        "Given two strings s and goal, return true *if and only if* s *can become* goal *after some number of **shifts** on* s.\n",
        "\n",
        "A **shift** on s consists of moving the leftmost character of s to the rightmost position.\n",
        "\n",
        "- For example, if s = \"abcde\", then it will be \"bcdea\" after one shift.\n",
        "\n",
        "**Example 1:**\n",
        "\n",
        "**Input:** s = \"abcde\", goal = \"cdeab\"\n",
        "\n",
        "**Output:**\n",
        "\n",
        "true\n",
        "\n",
        "</aside>"
      ],
      "metadata": {
        "id": "Ouy6gMbfhl-M"
      }
    },
    {
      "cell_type": "code",
      "source": [
        "def rotateString(s: str, goal: str) -> bool:\n",
        "    if len(s) != len(goal):\n",
        "        return False\n",
        "    if len(s) == 0:\n",
        "        return True\n",
        "    concatenated = s + s\n",
        "    if goal in concatenated:\n",
        "        return True\n",
        "    return False\n"
      ],
      "metadata": {
        "id": "gq8EeO0ghnME"
      },
      "execution_count": null,
      "outputs": []
    },
    {
      "cell_type": "code",
      "source": [
        "s = \"abcde\"\n",
        "goal = \"cdeab\"\n",
        "result = rotateString(s, goal)\n",
        "print(result)  # Output: True\n"
      ],
      "metadata": {
        "colab": {
          "base_uri": "https://localhost:8080/"
        },
        "id": "NWjEr9DzhnWP",
        "outputId": "a5beaf09-c3a8-4e4b-9c22-7c7e97074a3b"
      },
      "execution_count": null,
      "outputs": [
        {
          "output_type": "stream",
          "name": "stdout",
          "text": [
            "True\n"
          ]
        }
      ]
    },
    {
      "cell_type": "markdown",
      "source": [
        "## <aside>\n",
        "💡 **Question 7**\n",
        "\n",
        "Given two strings s and t, return true *if they are equal when both are typed into empty text editors*. '#' means a backspace character.\n",
        "\n",
        "Note that after backspacing an empty text, the text will continue empty.\n",
        "\n",
        "**Example 1:**\n",
        "\n",
        "**Input:** s = \"ab#c\", t = \"ad#c\"\n",
        "\n",
        "**Output:** true\n",
        "\n",
        "**Explanation:**\n",
        "\n",
        "Both s and t become \"ac\".\n",
        "\n",
        "</aside>"
      ],
      "metadata": {
        "id": "fug6umhQiFY_"
      }
    },
    {
      "cell_type": "code",
      "source": [
        "def backspaceCompare(s: str, t: str) -> bool:\n",
        "    def process_string(string):\n",
        "        processed = []\n",
        "        for char in string:\n",
        "            if char != '#':\n",
        "                processed.append(char)\n",
        "            elif processed:\n",
        "                processed.pop()\n",
        "        return ''.join(processed)\n",
        "\n",
        "    return process_string(s) == process_string(t)\n"
      ],
      "metadata": {
        "id": "B0AfxMrEiJiB"
      },
      "execution_count": null,
      "outputs": []
    },
    {
      "cell_type": "code",
      "source": [
        "s = \"ab#c\"\n",
        "t = \"ad#c\"\n",
        "result = backspaceCompare(s, t)\n",
        "print(result)  # Output: True\n"
      ],
      "metadata": {
        "colab": {
          "base_uri": "https://localhost:8080/"
        },
        "id": "fl5Fw6u2iJln",
        "outputId": "addf9a97-87b1-43a1-9f31-0ccb1618fe98"
      },
      "execution_count": null,
      "outputs": [
        {
          "output_type": "stream",
          "name": "stdout",
          "text": [
            "True\n"
          ]
        }
      ]
    },
    {
      "cell_type": "markdown",
      "source": [
        "## <aside>\n",
        "💡 **Question 8**\n",
        "\n",
        "You are given an array coordinates, coordinates[i] = [x, y], where [x, y] represents the coordinate of a point. Check if these points make a straight line in the XY plane.\n",
        "\n",
        "**Example 1:**\n",
        "**Input:** coordinates = [[1,2],[2,3],[3,4],[4,5],[5,6],[6,7]]\n",
        "\n",
        "**Output:** true"
      ],
      "metadata": {
        "id": "9u9iTikziqlX"
      }
    },
    {
      "cell_type": "code",
      "source": [
        "def checkStraightLine(coordinates):\n",
        "    if len(coordinates) <= 2:\n",
        "        return True\n",
        "\n",
        "    x0, y0 = coordinates[0]\n",
        "    x1, y1 = coordinates[1]\n",
        "\n",
        "    for i in range(2, len(coordinates)):\n",
        "        x, y = coordinates[i]\n",
        "        if (x - x0) * (y1 - y0) != (y - y0) * (x1 - x0):\n",
        "            return False\n",
        "\n",
        "    return True\n"
      ],
      "metadata": {
        "id": "_IuaZJbHi3kc"
      },
      "execution_count": null,
      "outputs": []
    },
    {
      "cell_type": "code",
      "source": [
        "coordinates = [[1,2],[2,3],[3,4],[4,5],[5,6],[6,7]]\n",
        "result = checkStraightLine(coordinates)\n",
        "print(result)  # Output: True\n"
      ],
      "metadata": {
        "colab": {
          "base_uri": "https://localhost:8080/"
        },
        "id": "_1IPkMryi4Hb",
        "outputId": "fef99b7e-a3c5-43e1-8173-720893f12a13"
      },
      "execution_count": null,
      "outputs": [
        {
          "output_type": "stream",
          "name": "stdout",
          "text": [
            "True\n"
          ]
        }
      ]
    }
  ]
}